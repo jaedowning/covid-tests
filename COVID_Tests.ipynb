{
 "cells": [
  {
   "cell_type": "markdown",
   "metadata": {},
   "source": [
    "![USPS](https://special.usps.com/static/media/home-test-hero.2099b1df64ebd24bb68a.jpg)"
   ]
  },
  {
   "cell_type": "markdown",
   "metadata": {},
   "source": [
    "## Who Ordered Free At-Home COVID-19 Tests?\n",
    "\n",
    "### by Jae Downing"
   ]
  },
  {
   "cell_type": "markdown",
   "metadata": {},
   "source": [
    "I wanted to know whether there were differences in the characteristics of homes that ordered the free COVID-19 tests compared to those who did not. My hypothesis was that households who ordered the tests would reside in neighborhoods with lower rates of:\n",
    "\n",
    "* Poverty\n",
    "* Racial minorities\n",
    "* Renters"
   ]
  },
  {
   "cell_type": "markdown",
   "metadata": {},
   "source": [
    "My approach was:\n",
    "\n",
    "1. Gather a random set of residential addresses\n",
    "2. [Order COVID-19 tests](https://special.usps.com/testkits) for the households and track whether the household had already ordered the test\n",
    "3. Geocode Addresses\n",
    "4. Append Block Groups to Lat and Long & Add in relevant American Community Data\n",
    "5. Test whether there were differences in block group characteristics"
   ]
  },
  {
   "cell_type": "markdown",
   "metadata": {},
   "source": [
    "### Step 1: Gather Addresses\n",
    "\n",
    "I couldn't find a national list of residential addresses. I live in Portland, so I thought I would use a local source. Since an API wasn't available for the residental address files, I first downloaded [Active Addresses](https://gis-pdx.opendata.arcgis.com/datasets/active-address-points/explore?location=45.339300%2C-122.536950%2C9.93) from [Portland Maps](https://www.portlandmaps.com/).  "
   ]
  },
  {
   "cell_type": "code",
   "execution_count": 3,
   "metadata": {},
   "outputs": [
    {
     "name": "stderr",
     "output_type": "stream",
     "text": [
      "/var/folders/y8/np38j_yx7f19x94jw97cg34ss2prd2/T/ipykernel_5729/2993792815.py:2: DtypeWarning: Columns (3,18,23,28,33,34,36,38,44) have mixed types. Specify dtype option on import or set low_memory=False.\n",
      "  data = pd.read_csv(\"/Users/downingj/Desktop/Active_Address_Points.csv\")\n"
     ]
    },
    {
     "data": {
      "text/plain": [
       "832735"
      ]
     },
     "execution_count": 3,
     "metadata": {},
     "output_type": "execute_result"
    }
   ],
   "source": [
    "import pandas as pd\n",
    "data = pd.read_csv(\"/Users/downingj/Desktop/Active_Address_Points.csv\")\n",
    "len(data)\n",
    "#data.head()"
   ]
  },
  {
   "cell_type": "code",
   "execution_count": 4,
   "metadata": {},
   "outputs": [
    {
     "data": {
      "text/plain": [
       "300669"
      ]
     },
     "execution_count": 4,
     "metadata": {},
     "output_type": "execute_result"
    }
   ],
   "source": [
    "# Keep only the addresses that are confirmed deliverable\n",
    "data = data[(data['MAILING_VALIDITY'] == \"Confirmed Deliverable\")]\n",
    "len(data)"
   ]
  },
  {
   "cell_type": "code",
   "execution_count": 6,
   "metadata": {},
   "outputs": [
    {
     "data": {
      "text/plain": [
       "1000"
      ]
     },
     "execution_count": 6,
     "metadata": {},
     "output_type": "execute_result"
    }
   ],
   "source": [
    "# Extract a random sample of 1000 addresses after sorting by zipcode\n",
    "data.sort_values(by=['ZIP_CODE'])\n",
    "sample = data.sample(n=1000, random_state=1)\n",
    "sample = pd.DataFrame(sample)\n",
    "len(sample)"
   ]
  },
  {
   "cell_type": "code",
   "execution_count": 7,
   "metadata": {},
   "outputs": [],
   "source": [
    "# Create a new csv file with the fields needed to fill out the form\n",
    "\n",
    "# Since Name is a Required Field, we will call everyone Oregon Resident\n",
    "sample['firstName'] = \"Oregon\"\n",
    "sample['lastName'] = \"Resident\"\n",
    "sample['email'] = \" \"\n",
    "sample['streetaddress'] = sample['ADDRESS_FULL']\n",
    "sample['city'] = sample['MAIL_CITY']\n",
    "sample['state'] = \"OR\"\n",
    "sample['zipcode'] = sample['ZIP_CODE']"
   ]
  },
  {
   "cell_type": "code",
   "execution_count": 8,
   "metadata": {},
   "outputs": [],
   "source": [
    "# Keep fields needed\n",
    "\n",
    "final = sample[['firstName', 'lastName', 'email', 'streetaddress', 'city', 'state', 'zipcode', 'X', 'Y']]\n",
    "fn = 'address_thousand.csv'\n",
    "final.to_csv(fn)"
   ]
  },
  {
   "cell_type": "markdown",
   "metadata": {},
   "source": [
    "### Step 2: Order the COVID-19 tests & Track Results\n",
    "\n",
    "I used [selenium](https://www.selenium.dev/) to automate the web browser. I used the tool to act like a human would - going to the website, typing in the information, and ordering the tests.\n",
    "\n",
    "The code also allows us to make a csv to track three outcomes:\n",
    "1. Test is successfully ordered.\n",
    "2. At-home COVID-19 tests have already been ordered for this address. \n",
    "3. We couldn't validate your address as complete."
   ]
  },
  {
   "cell_type": "code",
   "execution_count": null,
   "metadata": {},
   "outputs": [],
   "source": [
    "# Import Packages\n",
    "from selenium import webdriver\n",
    "from webdriver_manager.chrome import ChromeDriverManager as CM\n",
    "from selenium.webdriver.common.by import By\n",
    "from selenium.webdriver.support.select import Select\n",
    "from selenium.webdriver.common.keys import Keys\n",
    "from selenium.webdriver.common.action_chains import ActionChains\n",
    "from selenium.common.exceptions import NoSuchElementException\n",
    "from random import randint\n",
    "from time import sleep\n",
    "import csv"
   ]
  },
  {
   "cell_type": "code",
   "execution_count": null,
   "metadata": {
    "id": "uQTao-H4Ulos",
    "tags": []
   },
   "outputs": [],
   "source": [
    "def __random_sleep__(minimum=2, maximum=7):\n",
    "    t = randint(minimum, maximum)\n",
    "    sleep(t)"
   ]
  },
  {
   "cell_type": "code",
   "execution_count": null,
   "metadata": {
    "id": "AkO6j9f7Up8Z"
   },
   "outputs": [],
   "source": [
    "def __scrolldown__(driver):\n",
    "    ActionChains(driver).send_keys(Keys.PAGE_DOWN).perform()"
   ]
  },
  {
   "cell_type": "code",
   "execution_count": null,
   "metadata": {
    "id": "yMYfmDiCUs6h"
   },
   "outputs": [],
   "source": [
    "def __scrollup__(driver):\n",
    "    driver.execute_script(\n",
    "    \"window.scrollTo(0, 0);\")"
   ]
  },
  {
   "cell_type": "code",
   "execution_count": null,
   "metadata": {},
   "outputs": [],
   "source": [
    "def is_element_present(how, what):\n",
    "    \"\"\"Check if an element is present\"\"\"\n",
    "    try:\n",
    "        driver.find_element(by=how, value=what)\n",
    "    except NoSuchElementException:\n",
    "        return False\n",
    "    return True"
   ]
  },
  {
   "cell_type": "code",
   "execution_count": null,
   "metadata": {
    "id": "g4lP7TDQUvFt"
   },
   "outputs": [],
   "source": [
    "def setupChrome():\n",
    "    options = webdriver.ChromeOptions()\n",
    "    driver = webdriver.Chrome(\n",
    "    executable_path=CM().install(), options=options)\n",
    "    \n",
    "    return driver"
   ]
  },
  {
   "cell_type": "code",
   "execution_count": null,
   "metadata": {
    "id": "4ROm_-8wUxC5"
   },
   "outputs": [],
   "source": [
    "def readFromCsv(file):\n",
    "    rows = []\n",
    "  \n",
    "    # reading csv file\n",
    "    with open(file, 'r') as csvfile:\n",
    "        # creating a csv reader object\n",
    "        csvreader = csv.reader(csvfile)\n",
    "        \n",
    "        # extracting field names through first row\n",
    "        fields = next(csvreader)\n",
    "    \n",
    "        # extracting each data row one by one\n",
    "        for row in csvreader:\n",
    "            rows.append(row)\n",
    "  \n",
    "        # get total number of rows\n",
    "        print(\"Total no. of rows: \"+str(len(rows)))\n",
    "\n",
    "\n",
    "    return rows"
   ]
  },
  {
   "cell_type": "code",
   "execution_count": null,
   "metadata": {},
   "outputs": [],
   "source": [
    "def fillForm(len,driver, rows):\n",
    "    for i in range(len+1):\n",
    "        address_track = []\n",
    "\n",
    "        driver.get('https://special.usps.com/testkits')\n",
    "\n",
    "        __scrollup__(driver)\n",
    "\n",
    "        __random_sleep__(3,5)\n",
    "\n",
    "        firstName = driver.find_element(By.NAME, \"firstName\").send_keys(rows[i][0])\n",
    "        __random_sleep__(1,2)\n",
    "\n",
    "        lastName = driver.find_element(By.NAME, \"lastName\").send_keys(rows[i][1])\n",
    "\n",
    "        #__random_sleep__(1,2)\n",
    "\n",
    "        #email = driver.find_element(By.NAME, \"email\").send_keys(rows[i][2])\n",
    "        #__random_sleep__(1,2)\n",
    "\n",
    "        #__scrolldown__(driver)\n",
    "        __random_sleep__(2,3)\n",
    "\n",
    "        checkBox = driver.find_element(By.ID, \"recipientSameAsSender\").click()\n",
    "        __random_sleep__(1,2)\n",
    "\n",
    "        address = driver.find_element(By.NAME, \"address1\").send_keys(rows[i][3])\n",
    "        __random_sleep__(1,2)\n",
    "\n",
    "        city = driver.find_element(By.NAME, \"city\").send_keys(rows[i][4])\n",
    "        __random_sleep__(1,2)\n",
    "\n",
    "        state = driver.find_element(By.ID, \"state\")\n",
    "        stateDD = Select(state)\n",
    "        stateDD.select_by_value(rows[i][5])\n",
    "        __random_sleep__(1,2)\n",
    "\n",
    "        zipCode = driver.find_element(By.NAME, \"zipCode\").send_keys(rows[i][6])\n",
    "        __random_sleep__(2,3)\n",
    "\n",
    "        checkOut = driver.find_element(By.XPATH, \"//button[text()= 'Check Out Now']\").click()\n",
    "        __random_sleep__(2,3)\n",
    "\n",
    "        orderButton = driver.find_element(By.XPATH, \"//button[text() = 'Place My Order']\").click()\n",
    "        __random_sleep__(7,10)\n",
    "        \n",
    "        order_failed = \"/html/body/div[3]/div/div/div[2]/div/div/p\"\n",
    "        order_successfull = \"/html/body/div[3]/div/div/div/div/div/div/h1\"\n",
    "\n",
    "        if is_element_present(By.XPATH, order_failed):\n",
    "\n",
    "            result = driver.find_element(By.XPATH, order_failed)\n",
    "\n",
    "        elif is_element_present(By.XPATH, order_successfull):\n",
    "            result = driver.find_element(By.XPATH, order_successfull)\n",
    "\n",
    "        \n",
    "        address_track.append(rows[i][3])\n",
    "        address_track.append(rows[i][6])\n",
    "        address_track.append(result.text)\n",
    "\n",
    "        with open(\"address_track.csv\", 'a') as csvfile: \n",
    "            csvwriter = csv.writer(csvfile)\n",
    "            csvwriter.writerow(address_track)\n",
    "\n",
    "            print(address_track)\n",
    "            csvfile.close()\n",
    "\n",
    "\n",
    "        print(\"Entered Row number: \"+str(i+1))"
   ]
  },
  {
   "cell_type": "code",
   "execution_count": null,
   "metadata": {
    "id": "yseCmVsGU10k"
   },
   "outputs": [],
   "source": [
    "filename=\"/Users/downingj/Desktop/address_thousand.csv\"\n",
    "\n",
    "rows = readFromCsv(filename)\n",
    "\n",
    "driver = setupChrome()\n",
    "\n",
    "fillForm(len(rows),driver,rows)"
   ]
  },
  {
   "cell_type": "markdown",
   "metadata": {},
   "source": [
    "### Step 3: Geocode Using Google API\n",
    "\n",
    "Next, we have to geocode the addresses. I choose to use Google API. "
   ]
  },
  {
   "cell_type": "code",
   "execution_count": 9,
   "metadata": {},
   "outputs": [],
   "source": [
    "# Create a single address field\n",
    "final = pd.read_csv(\"/Users/downingj/Desktop/Active_Address_Points.csv\")\n",
    "final = final.applymap(str)"
   ]
  },
  {
   "cell_type": "code",
   "execution_count": 10,
   "metadata": {},
   "outputs": [],
   "source": [
    "final['address']  = final[['streetaddress', 'city', 'state', 'zipcode']].agg(', '.join, axis=1)"
   ]
  },
  {
   "cell_type": "code",
   "execution_count": 11,
   "metadata": {},
   "outputs": [
    {
     "data": {
      "text/html": [
       "<div>\n",
       "<style scoped>\n",
       "    .dataframe tbody tr th:only-of-type {\n",
       "        vertical-align: middle;\n",
       "    }\n",
       "\n",
       "    .dataframe tbody tr th {\n",
       "        vertical-align: top;\n",
       "    }\n",
       "\n",
       "    .dataframe thead th {\n",
       "        text-align: right;\n",
       "    }\n",
       "</style>\n",
       "<table border=\"1\" class=\"dataframe\">\n",
       "  <thead>\n",
       "    <tr style=\"text-align: right;\">\n",
       "      <th></th>\n",
       "      <th>firstName</th>\n",
       "      <th>lastName</th>\n",
       "      <th>email</th>\n",
       "      <th>streetaddress</th>\n",
       "      <th>city</th>\n",
       "      <th>state</th>\n",
       "      <th>zipcode</th>\n",
       "      <th>X</th>\n",
       "      <th>Y</th>\n",
       "      <th>address</th>\n",
       "    </tr>\n",
       "  </thead>\n",
       "  <tbody>\n",
       "    <tr>\n",
       "      <th>7090</th>\n",
       "      <td>Oregon</td>\n",
       "      <td>Resident</td>\n",
       "      <td></td>\n",
       "      <td>5639 SE LAMBERT ST</td>\n",
       "      <td>Portland</td>\n",
       "      <td>OR</td>\n",
       "      <td>97206</td>\n",
       "      <td>7662126.775</td>\n",
       "      <td>663555.766</td>\n",
       "      <td>5639 SE LAMBERT ST, Portland, OR, 97206</td>\n",
       "    </tr>\n",
       "    <tr>\n",
       "      <th>265966</th>\n",
       "      <td>Oregon</td>\n",
       "      <td>Resident</td>\n",
       "      <td></td>\n",
       "      <td>9826 SE RAMONA ST</td>\n",
       "      <td>Portland</td>\n",
       "      <td>OR</td>\n",
       "      <td>97266</td>\n",
       "      <td>7673247.742</td>\n",
       "      <td>667977.267</td>\n",
       "      <td>9826 SE RAMONA ST, Portland, OR, 97266</td>\n",
       "    </tr>\n",
       "    <tr>\n",
       "      <th>62469</th>\n",
       "      <td>Oregon</td>\n",
       "      <td>Resident</td>\n",
       "      <td></td>\n",
       "      <td>501 N GRAHAM ST #335</td>\n",
       "      <td>Portland</td>\n",
       "      <td>OR</td>\n",
       "      <td>97227</td>\n",
       "      <td>7645926.81</td>\n",
       "      <td>691662.683</td>\n",
       "      <td>501 N GRAHAM ST #335, Portland, OR, 97227</td>\n",
       "    </tr>\n",
       "    <tr>\n",
       "      <th>216807</th>\n",
       "      <td>Oregon</td>\n",
       "      <td>Resident</td>\n",
       "      <td></td>\n",
       "      <td>641 SE 131ST PL</td>\n",
       "      <td>Portland</td>\n",
       "      <td>OR</td>\n",
       "      <td>97233</td>\n",
       "      <td>7682280.435</td>\n",
       "      <td>681342.838</td>\n",
       "      <td>641 SE 131ST PL, Portland, OR, 97233</td>\n",
       "    </tr>\n",
       "    <tr>\n",
       "      <th>523156</th>\n",
       "      <td>Oregon</td>\n",
       "      <td>Resident</td>\n",
       "      <td></td>\n",
       "      <td>3577 SE MALL ST #40</td>\n",
       "      <td>Portland</td>\n",
       "      <td>OR</td>\n",
       "      <td>97202</td>\n",
       "      <td>7656846.84</td>\n",
       "      <td>672324.268</td>\n",
       "      <td>3577 SE MALL ST #40, Portland, OR, 97202</td>\n",
       "    </tr>\n",
       "  </tbody>\n",
       "</table>\n",
       "</div>"
      ],
      "text/plain": [
       "       firstName  lastName email         streetaddress      city state  \\\n",
       "7090      Oregon  Resident          5639 SE LAMBERT ST  Portland    OR   \n",
       "265966    Oregon  Resident           9826 SE RAMONA ST  Portland    OR   \n",
       "62469     Oregon  Resident        501 N GRAHAM ST #335  Portland    OR   \n",
       "216807    Oregon  Resident             641 SE 131ST PL  Portland    OR   \n",
       "523156    Oregon  Resident         3577 SE MALL ST #40  Portland    OR   \n",
       "\n",
       "       zipcode            X           Y  \\\n",
       "7090     97206  7662126.775  663555.766   \n",
       "265966   97266  7673247.742  667977.267   \n",
       "62469    97227   7645926.81  691662.683   \n",
       "216807   97233  7682280.435  681342.838   \n",
       "523156   97202   7656846.84  672324.268   \n",
       "\n",
       "                                          address  \n",
       "7090      5639 SE LAMBERT ST, Portland, OR, 97206  \n",
       "265966     9826 SE RAMONA ST, Portland, OR, 97266  \n",
       "62469   501 N GRAHAM ST #335, Portland, OR, 97227  \n",
       "216807       641 SE 131ST PL, Portland, OR, 97233  \n",
       "523156   3577 SE MALL ST #40, Portland, OR, 97202  "
      ]
     },
     "execution_count": 11,
     "metadata": {},
     "output_type": "execute_result"
    }
   ],
   "source": [
    "final.head()"
   ]
  },
  {
   "cell_type": "code",
   "execution_count": 90,
   "metadata": {},
   "outputs": [],
   "source": [
    "import googlemaps\n",
    "gmaps_key = googlemaps.Client(key=\"<YOUR KEY HERE>\")"
   ]
  },
  {
   "cell_type": "code",
   "execution_count": 91,
   "metadata": {},
   "outputs": [],
   "source": [
    "from geopy.geocoders import GoogleV3\n",
    "import geopy.distance\n",
    "import googlemaps\n",
    "import numpy as np\n",
    "import geopandas as gpd\n",
    "import urllib"
   ]
  },
  {
   "cell_type": "code",
   "execution_count": 92,
   "metadata": {},
   "outputs": [],
   "source": [
    "#API = 'YOUR KEY HERE'"
   ]
  },
  {
   "cell_type": "code",
   "execution_count": 95,
   "metadata": {},
   "outputs": [
    {
     "name": "stdout",
     "output_type": "stream",
     "text": [
      "100.0% of addresses were geocoded!\n"
     ]
    },
    {
     "data": {
      "text/html": [
       "<div>\n",
       "<style scoped>\n",
       "    .dataframe tbody tr th:only-of-type {\n",
       "        vertical-align: middle;\n",
       "    }\n",
       "\n",
       "    .dataframe tbody tr th {\n",
       "        vertical-align: top;\n",
       "    }\n",
       "\n",
       "    .dataframe thead th {\n",
       "        text-align: right;\n",
       "    }\n",
       "</style>\n",
       "<table border=\"1\" class=\"dataframe\">\n",
       "  <thead>\n",
       "    <tr style=\"text-align: right;\">\n",
       "      <th></th>\n",
       "      <th>firstName</th>\n",
       "      <th>lastName</th>\n",
       "      <th>email</th>\n",
       "      <th>streetaddress</th>\n",
       "      <th>city</th>\n",
       "      <th>state</th>\n",
       "      <th>zipcode</th>\n",
       "      <th>X</th>\n",
       "      <th>Y</th>\n",
       "      <th>address</th>\n",
       "      <th>Latitude</th>\n",
       "      <th>Longitude</th>\n",
       "      <th>geometry</th>\n",
       "    </tr>\n",
       "  </thead>\n",
       "  <tbody>\n",
       "    <tr>\n",
       "      <th>7090</th>\n",
       "      <td>Oregon</td>\n",
       "      <td>Resident</td>\n",
       "      <td></td>\n",
       "      <td>5639 SE LAMBERT ST</td>\n",
       "      <td>Portland</td>\n",
       "      <td>OR</td>\n",
       "      <td>97206</td>\n",
       "      <td>7662126.775</td>\n",
       "      <td>663555.766</td>\n",
       "      <td>5639 SE LAMBERT ST, Portland, OR, 97206</td>\n",
       "      <td>45.467446</td>\n",
       "      <td>-122.604997</td>\n",
       "      <td>POINT (-122.60500 45.46745)</td>\n",
       "    </tr>\n",
       "    <tr>\n",
       "      <th>265966</th>\n",
       "      <td>Oregon</td>\n",
       "      <td>Resident</td>\n",
       "      <td></td>\n",
       "      <td>9826 SE RAMONA ST</td>\n",
       "      <td>Portland</td>\n",
       "      <td>OR</td>\n",
       "      <td>97266</td>\n",
       "      <td>7673247.742</td>\n",
       "      <td>667977.267</td>\n",
       "      <td>9826 SE RAMONA ST, Portland, OR, 97266</td>\n",
       "      <td>45.480414</td>\n",
       "      <td>-122.562097</td>\n",
       "      <td>POINT (-122.56210 45.48041)</td>\n",
       "    </tr>\n",
       "    <tr>\n",
       "      <th>62469</th>\n",
       "      <td>Oregon</td>\n",
       "      <td>Resident</td>\n",
       "      <td></td>\n",
       "      <td>501 N GRAHAM ST #335</td>\n",
       "      <td>Portland</td>\n",
       "      <td>OR</td>\n",
       "      <td>97227</td>\n",
       "      <td>7645926.81</td>\n",
       "      <td>691662.683</td>\n",
       "      <td>501 N GRAHAM ST #335, Portland, OR, 97227</td>\n",
       "      <td>45.543346</td>\n",
       "      <td>-122.671081</td>\n",
       "      <td>POINT (-122.67108 45.54335)</td>\n",
       "    </tr>\n",
       "    <tr>\n",
       "      <th>216807</th>\n",
       "      <td>Oregon</td>\n",
       "      <td>Resident</td>\n",
       "      <td></td>\n",
       "      <td>641 SE 131ST PL</td>\n",
       "      <td>Portland</td>\n",
       "      <td>OR</td>\n",
       "      <td>97233</td>\n",
       "      <td>7682280.435</td>\n",
       "      <td>681342.838</td>\n",
       "      <td>641 SE 131ST PL, Portland, OR, 97233</td>\n",
       "      <td>45.517647</td>\n",
       "      <td>-122.528236</td>\n",
       "      <td>POINT (-122.52824 45.51765)</td>\n",
       "    </tr>\n",
       "    <tr>\n",
       "      <th>523156</th>\n",
       "      <td>Oregon</td>\n",
       "      <td>Resident</td>\n",
       "      <td></td>\n",
       "      <td>3577 SE MALL ST #40</td>\n",
       "      <td>Portland</td>\n",
       "      <td>OR</td>\n",
       "      <td>97202</td>\n",
       "      <td>7656846.84</td>\n",
       "      <td>672324.268</td>\n",
       "      <td>3577 SE MALL ST #40, Portland, OR, 97202</td>\n",
       "      <td>45.491123</td>\n",
       "      <td>-122.626488</td>\n",
       "      <td>POINT (-122.62649 45.49112)</td>\n",
       "    </tr>\n",
       "  </tbody>\n",
       "</table>\n",
       "</div>"
      ],
      "text/plain": [
       "       firstName  lastName email         streetaddress      city state  \\\n",
       "7090      Oregon  Resident          5639 SE LAMBERT ST  Portland    OR   \n",
       "265966    Oregon  Resident           9826 SE RAMONA ST  Portland    OR   \n",
       "62469     Oregon  Resident        501 N GRAHAM ST #335  Portland    OR   \n",
       "216807    Oregon  Resident             641 SE 131ST PL  Portland    OR   \n",
       "523156    Oregon  Resident         3577 SE MALL ST #40  Portland    OR   \n",
       "\n",
       "       zipcode            X           Y  \\\n",
       "7090     97206  7662126.775  663555.766   \n",
       "265966   97266  7673247.742  667977.267   \n",
       "62469    97227   7645926.81  691662.683   \n",
       "216807   97233  7682280.435  681342.838   \n",
       "523156   97202   7656846.84  672324.268   \n",
       "\n",
       "                                          address   Latitude   Longitude  \\\n",
       "7090      5639 SE LAMBERT ST, Portland, OR, 97206  45.467446 -122.604997   \n",
       "265966     9826 SE RAMONA ST, Portland, OR, 97266  45.480414 -122.562097   \n",
       "62469   501 N GRAHAM ST #335, Portland, OR, 97227  45.543346 -122.671081   \n",
       "216807       641 SE 131ST PL, Portland, OR, 97233  45.517647 -122.528236   \n",
       "523156   3577 SE MALL ST #40, Portland, OR, 97202  45.491123 -122.626488   \n",
       "\n",
       "                           geometry  \n",
       "7090    POINT (-122.60500 45.46745)  \n",
       "265966  POINT (-122.56210 45.48041)  \n",
       "62469   POINT (-122.67108 45.54335)  \n",
       "216807  POINT (-122.52824 45.51765)  \n",
       "523156  POINT (-122.62649 45.49112)  "
      ]
     },
     "execution_count": 95,
     "metadata": {},
     "output_type": "execute_result"
    }
   ],
   "source": [
    "#Geocode all the addresses and creates rows with\n",
    "def my_geocoder(row):\n",
    "    try:\n",
    "        point = geolocator.geocode(row).point\n",
    "        return pd.Series({'Latitude': point.latitude, 'Longitude': point.longitude})\n",
    "    except:\n",
    "        return None\n",
    "\n",
    "final[['Latitude', 'Longitude']] = final.apply(lambda x: my_geocoder(x['address']), axis=1)\n",
    "\n",
    "print(\"{}% of addresses were geocoded!\".format(\n",
    "    (1 - sum(np.isnan(final[\"Latitude\"])) / len(final)) * 100))\n",
    "\n",
    "# Drop addresses that were not successfully geocoded\n",
    "final = final.loc[~np.isnan(final[\"Latitude\"])]\n",
    "final = gpd.GeoDataFrame(\n",
    "    final, geometry=gpd.points_from_xy(final.Longitude, final.Latitude))\n",
    "final.head()"
   ]
  },
  {
   "cell_type": "markdown",
   "metadata": {},
   "source": [
    "### Step 4: Append Census Blocks and Data\n",
    "\n",
    "Ok, that was helpful, but this doesn't contain FIPS. R has some great packages for working with Census Data, so let's demonstrate how to switch back to R in the same Jupyter notebook to finish the work.\n",
    "\n",
    "I used [tidygeocoder](https://cran.r-project.org/web/packages/tidygeocoder/vignettes/tidygeocoder.html) and [tidycensus](https://cran.r-project.org/web/packages/tidycensus/index.html) to pull in the [American Community Survey](https://www.census.gov/programs-surveys/acs) data easily."
   ]
  },
  {
   "cell_type": "code",
   "execution_count": 15,
   "metadata": {},
   "outputs": [
    {
     "name": "stdout",
     "output_type": "stream",
     "text": [
      "The rpy2.ipython extension is already loaded. To reload it, use:\n",
      "  %reload_ext rpy2.ipython\n"
     ]
    }
   ],
   "source": [
    "%load_ext rpy2.ipython"
   ]
  },
  {
   "cell_type": "code",
   "execution_count": 20,
   "metadata": {},
   "outputs": [],
   "source": [
    "%%R\n",
    "\n",
    "install.packages(\"dplyr\", repos='http://cran.us.r-project.org', quiet=TRUE)\n",
    "install.packages(\"tidygeocoder\", repos='http://cran.us.r-project.org', quiet=TRUE)\n",
    "install.packages(\"tidycensus\", repos='http://cran.us.r-project.org', quiet=TRUE)\n",
    "\n",
    "library(dplyr)\n",
    "library(tidygeocoder)\n",
    "library(tidycensus)\n",
    "oregon<- read.csv(\"~/Desktop/output_oregon.csv\")\n",
    "\n",
    "oregon$full <- paste(oregon$address, oregon$city, oregon$state, sep=\", \")\n",
    "\n",
    "library(dplyr)\n",
    "library(tidygeocoder)\n",
    "library(tidycensus)\n",
    "\n",
    "geocoded_df <- oregon %>%\n",
    " geocode(address=full,\n",
    "         method = \"census\", \n",
    "         mode = \"single\",\n",
    "         full_results=TRUE,\n",
    "         api_options = list(census_return_type = 'geographies'),\n",
    "         quiet=TRUE)\n",
    "\n",
    "geocoded_df <- \n",
    "  geocoded_df %>%\n",
    "  select(status, lat, long, `geographies.2020 Census Blocks`) %>%\n",
    "  rename(block = `geographies.2020 Census Blocks`)\n",
    "\n",
    "block_id <- character(nrow(geocoded_df))\n",
    "\n",
    "for (i in 1:nrow(geocoded_df)) {\n",
    "  block.GEOID <- (geocoded_df[i, \"block\"] %>% unlist)[\"block.GEOID\"] \n",
    "  if (is.null(block.GEOID)) {\n",
    "    block_id[i] <- NA\n",
    "  } else {\n",
    "    block_id[i] <- block.GEOID\n",
    "  }\n",
    "} \n",
    "\n",
    "geocoded_df$block_id <- block_id\n",
    "geocoded_df <- \n",
    "  geocoded_df %>%\n",
    "  mutate(block_grp_id = substr(block_id, start=1, stop=12),\n",
    "         tract_id = substr(block_id, start=1, stop=11),\n",
    "         county_id = substr(block_id, start=1, stop=5)) %>%\n",
    "  select(status, \n",
    "         lat, \n",
    "         long, \n",
    "         block_grp_id, \n",
    "         tract_id, \n",
    "         county_id)"
   ]
  },
  {
   "cell_type": "markdown",
   "metadata": {},
   "source": [
    "### Step 5: Test Differences\n",
    "\n",
    "Let's use a simple t-test to look at differences between the two groups for household income."
   ]
  },
  {
   "cell_type": "code",
   "execution_count": 21,
   "metadata": {},
   "outputs": [
    {
     "name": "stderr",
     "output_type": "stream",
     "text": [
      "R[write to console]: Getting data from the 2015-2019 5-year ACS\n",
      "\n",
      "R[write to console]: Using FIPS code '41' for state 'OR'\n",
      "\n"
     ]
    },
    {
     "name": "stdout",
     "output_type": "stream",
     "text": [
      "\n",
      "\tTwo Sample t-test\n",
      "\n",
      "data:  med_inc_block_grp by status\n",
      "t = 2.7734, df = 237, p-value = 0.005989\n",
      "alternative hypothesis: true difference in means between group 0 and group 1 is not equal to 0\n",
      "95 percent confidence interval:\n",
      "  3842.536 22687.299\n",
      "sample estimates:\n",
      "mean in group 0 mean in group 1 \n",
      "       89947.24        76682.32 \n",
      "\n"
     ]
    }
   ],
   "source": [
    "%%R\n",
    "\n",
    "install.packages(\"naniar\", repos='http://cran.us.r-project.org', quiet=TRUE)\n",
    "library(naniar)\n",
    "\n",
    "incomes_by_block_grp <- get_acs(\n",
    "  geography=\"block group\",\n",
    "  state=\"OR\",\n",
    "  variables=\"B19013_001\",\n",
    "  year=2019,\n",
    "  geometry=FALSE)\n",
    "\n",
    "\n",
    "med_incomes_block_grp <-\n",
    "  left_join(x=geocoded_df, y=incomes_by_block_grp,\n",
    "            by=c(\"block_grp_id\" = \"GEOID\")) %>%\n",
    "  select(status, estimate) %>%\n",
    "  rename(med_inc_block_grp = estimate)\n",
    "\n",
    "x = med_incomes_block_grp %>% replace_with_na(replace = list(status = 2))\n",
    "nonmiss = na.omit(x)\n",
    "final <- t.test(med_inc_block_grp ~ status, data = nonmiss, var.equal = TRUE)\n",
    "final"
   ]
  },
  {
   "cell_type": "markdown",
   "metadata": {},
   "source": [
    "### Done! \n",
    "\n",
    "I found here that the mean block group household income of the addresses that ordered the test was 89,947 USD compared to 76,682 USD in the group that did not order the test.\n",
    "\n",
    "This means that in the Portland area - at least - this government intervention more greatly benefited higher income households."
   ]
  }
 ],
 "metadata": {
  "colab": {
   "collapsed_sections": [],
   "name": "USPS.ipynb",
   "provenance": []
  },
  "kernelspec": {
   "display_name": "Python 3 (ipykernel)",
   "language": "python",
   "name": "python3"
  },
  "language_info": {
   "codemirror_mode": {
    "name": "ipython",
    "version": 3
   },
   "file_extension": ".py",
   "mimetype": "text/x-python",
   "name": "python",
   "nbconvert_exporter": "python",
   "pygments_lexer": "ipython3",
   "version": "3.9.7"
  }
 },
 "nbformat": 4,
 "nbformat_minor": 4
}
